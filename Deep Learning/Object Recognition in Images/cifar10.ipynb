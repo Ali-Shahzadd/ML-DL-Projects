{
 "cells": [
  {
   "cell_type": "markdown",
   "id": "891fdb09",
   "metadata": {},
   "source": [
    "<h1 style=\"font-family:'Poppins', Arial, sans-serif; font-weight:700; color:#1e8449; text-align:center; margin-bottom:20px; letter-spacing:1px; font-size:40px;\">👨‍💻 Author: <span style=\"color:#0cd865;\">Ali Hassan</span></h1>\n",
    "\n",
    "<div style=\"text-align:center; margin-top:20px; line-height:3; font-size:18px;\">\n",
    "  <span style=\"margin-right:8px;\"></span><a href=\"https://github.com/Ali-Shahzadd\"><img src=\"https://img.shields.io/badge/GitHub-Profile-181717?style=flat-square&logo=github&logoColor=white\" alt=\"GitHub\" style=\"height:30px;\"></a>\n",
    "  <span style=\"margin-left:15px; margin-right:8px;\"></span><a href=\"https://www.kaggle.com/alihassanshahzad786\"><img src=\"https://img.shields.io/badge/Kaggle-Profile-20BEFF?style=flat-square&logo=kaggle&logoColor=white\" alt=\"Kaggle\" style=\"height:30px;\"></a>\n",
    "  <span style=\"margin-left:15px; margin-right:8px;\"></span><a href=\"https://www.linkedin.com/in/ali-hassan-3952a2290/\"><img src=\"https://img.shields.io/badge/LinkedIn-Profile-0077B5?style=flat-square&logo=linkedin&logoColor=white\" alt=\"LinkedIn\" style=\"height:30px;\"></a>\n",
    "  <span style=\"margin-left:15px; margin-right:8px;\"></span><a href=\"https://x.com/alishahzadddd?s=21\"><img src=\"https://img.shields.io/badge/Twitter-Profile-1DA1F2?style=flat-square&logo=twitter&logoColor=white\" alt=\"Twitter\" style=\"height:30px;\"></a>\n",
    "</div>\n",
    "\n"
   ]
  },
  {
   "cell_type": "markdown",
   "id": "e804b6b8",
   "metadata": {},
   "source": [
    "\n",
    "<h1 style=\"color: green;font-family: 'Franklin Gothic Medium', 'Arial Narrow', Arial, sans-serif; font-weight: bold;\">\n",
    "CIFAR 10 Object Recognition in Images\n",
    "</h1>\n",
    "\n",
    "\n",
    "| <img src=\"https://encrypted-tbn0.gstatic.com/images?q=tbn:ANd9GcS7-VNaEQEsTAc2r_DnrPjBRcTCec_rmXjEsQ&s\" alt=\"Plant\" style=\"width:180px;height:auto;border-radius:8px;box-shadow:0 2px 4px rgba(0,0,0,0.2);margin:5px;\"> | <img src=\"https://encrypted-tbn0.gstatic.com/images?q=tbn:ANd9GcTeLDhtEVF5v3P76vbN9xYxD4ZwnVXuIgN4ow&s\" alt=\"Plant\" style=\"width:180px;height:auto;border-radius:8px;box-shadow:0 2px 4px rgba(0,0,0,0.2);margin:5px;\"> | <img src=\"https://encrypted-tbn0.gstatic.com/images?q=tbn:ANd9GcQRWhGpXWfS5xFLOzzqr8cqkIB2tMXXZ48CWA&s\" alt=\"Plant\" style=\"width:180px;height:auto;border-radius:8px;box-shadow:0 2px 4px rgba(0,0,0,0.2);margin:5px;\"> | <img src=\"https://encrypted-tbn0.gstatic.com/images?q=tbn:ANd9GcT7eLyTg7mTPuwBVCfF2Xy224bPCBmfajHwwQ&s\" alt=\"Plant\" style=\"width:180px;height:auto;border-radius:8px;box-shadow:0 2px 4px rgba(0,0,0,0.2);margin:5px;\"> |\n",
    "|---|---|---|---|\n"
   ]
  },
  {
   "cell_type": "markdown",
   "id": "44b1f33e",
   "metadata": {},
   "source": [
    "### Author: `Ali Hassan`"
   ]
  },
  {
   "cell_type": "markdown",
   "id": "09372e29",
   "metadata": {},
   "source": [
    "**[CIFAR 10 Dataset](https://www.kaggle.com/competitions/cifar-10/data)**\\\n",
    "Dataset Description\n",
    "The CIFAR-10 data consists of 60,000 32x32 color images in 10 classes, with 6000 images per class. There are 50,000 training images and 10,000 test images in the official data. We have preserved the train/test split from the original dataset.  The provided files are:\n",
    "\n",
    "train.7z - a folder containing the training images in png format\n",
    "test.7z - a folder containing the test images in png format\n",
    "trainLabels.csv - the training labels\n",
    "\n",
    "To discourage certain forms of cheating (such as hand labeling) we have added 290,000 junk images in the test set. These images are ignored in the scoring. We have also made trivial modifications to the official 10,000 test images to prevent looking them up by file hash. These modifications should not appreciably affect the scoring. You should predict labels for all 300,000 images.\n",
    "\n",
    "The label classes in the dataset are:\n",
    "\n",
    "**airplane\\\n",
    "automobile \\\n",
    "bird \\\n",
    "cat \\\n",
    "deer \\\n",
    "dog \\\n",
    "frog \\\n",
    "horse \\\n",
    "ship \\\n",
    "truck**\n",
    "\n",
    "The classes are completely mutually exclusive. There is no overlap between automobiles and trucks. \"Automobile\" includes sedans, SUVs, things of that sort. \"Truck\" includes only big trucks. Neither includes pickup trucks."
   ]
  },
  {
   "cell_type": "markdown",
   "id": "c2dadb12",
   "metadata": {
    "vscode": {
     "languageId": "html"
    }
   },
   "source": [
    "<h3 style=\"color: brown;font-family: 'Times New Roman', Times, serif; font-weight: bold;\">Import Libraries</h3>"
   ]
  },
  {
   "cell_type": "code",
   "execution_count": null,
   "id": "1fbf4994",
   "metadata": {},
   "outputs": [],
   "source": [
    "import os\n",
    "import py7zr\n",
    "import pandas as pd\n",
    "import numpy as np\n",
    "from sklearn.model_selection import train_test_split\n",
    "from tensorflow.keras.utils import to_categorical\n",
    "from tensorflow.keras.preprocessing.image import load_img, img_to_array,ImageDataGenerator\n",
    "import matplotlib.pyplot as plt"
   ]
  },
  {
   "cell_type": "markdown",
   "id": "e965f452",
   "metadata": {},
   "source": [
    "<h3 style=\"color: brown;font-family: 'Times New Roman', Times, serif; font-weight: bold;\">\n",
    "Download the Dataset\n",
    "</h3>"
   ]
  },
  {
   "cell_type": "code",
   "execution_count": null,
   "id": "4b60c4b8",
   "metadata": {},
   "outputs": [
    {
     "name": "stdout",
     "output_type": "stream",
     "text": [
      "Downloading cifar-10.zip to c:\\Users\\user\\Desktop\\My Projects\\DL Projects\\Object Recognition in Images\n",
      "\n"
     ]
    },
    {
     "name": "stderr",
     "output_type": "stream",
     "text": [
      "\n",
      "  0%|          | 0.00/715M [00:00<?, ?B/s]\n",
      " 14%|█▍        | 103M/715M [00:00<00:00, 1.07GB/s]\n",
      " 30%|██▉       | 213M/715M [00:00<00:00, 1.11GB/s]\n",
      " 46%|████▌     | 329M/715M [00:00<00:00, 1.16GB/s]\n",
      " 62%|██████▏   | 440M/715M [00:00<00:00, 1.11GB/s]\n",
      " 76%|███████▋  | 547M/715M [00:00<00:00, 1.06GB/s]\n",
      " 91%|█████████ | 649M/715M [00:00<00:00, 646MB/s] \n",
      "100%|██████████| 715M/715M [00:00<00:00, 831MB/s]\n"
     ]
    }
   ],
   "source": [
    "# daatset api\n",
    "# !kaggle competitions download -c cifar-10"
   ]
  },
  {
   "cell_type": "markdown",
   "id": "89466358",
   "metadata": {},
   "source": [
    "<h3 style=\"color: brown;font-family: 'Times New Roman', Times, serif; font-weight: bold;\">\n",
    "Extracting the data from zip\n",
    "</h3>"
   ]
  },
  {
   "cell_type": "code",
   "execution_count": null,
   "id": "91659204",
   "metadata": {},
   "outputs": [
    {
     "name": "stdout",
     "output_type": "stream",
     "text": [
      "✅ Dataset extracted to 'cifar10_data/'\n"
     ]
    }
   ],
   "source": [
    "import zipfile\n",
    "\n",
    "with zipfile.ZipFile(\"cifar-10.zip\", 'r') as zip_ref:\n",
    "    zip_ref.extractall(\"cifar10_data\")\n",
    "\n",
    "print(\" Dataset extracted to 'cifar10_data/'\")\n"
   ]
  },
  {
   "cell_type": "markdown",
   "id": "17ca022a",
   "metadata": {},
   "source": [
    "<h3 style=\"color: brown;font-family: 'Times New Roman', Times, serif; font-weight: bold;\">\n",
    "Download 7zip Library to extract\n",
    "</h3>"
   ]
  },
  {
   "cell_type": "code",
   "execution_count": null,
   "id": "6375f875",
   "metadata": {},
   "outputs": [
    {
     "name": "stdout",
     "output_type": "stream",
     "text": [
      "Looking in indexes: https://pypi.org/simple, https://pypi.ngc.nvidia.com\n",
      "Collecting py7zr\n",
      "  Downloading py7zr-1.0.0-py3-none-any.whl.metadata (17 kB)\n",
      "Collecting texttable (from py7zr)\n",
      "  Downloading texttable-1.7.0-py2.py3-none-any.whl.metadata (9.8 kB)\n",
      "Collecting pycryptodomex>=3.20.0 (from py7zr)\n",
      "  Downloading pycryptodomex-3.23.0-cp37-abi3-win_amd64.whl.metadata (3.5 kB)\n",
      "Collecting brotli>=1.1.0 (from py7zr)\n",
      "  Downloading Brotli-1.1.0-cp310-cp310-win_amd64.whl.metadata (5.6 kB)\n",
      "Requirement already satisfied: psutil in e:\\anaconda\\envs\\tfgpu\\lib\\site-packages (from py7zr) (7.0.0)\n",
      "Collecting pyzstd>=0.16.1 (from py7zr)\n",
      "  Downloading pyzstd-0.17.0-cp310-cp310-win_amd64.whl.metadata (2.6 kB)\n",
      "Collecting pyppmd<1.3.0,>=1.1.0 (from py7zr)\n",
      "  Downloading pyppmd-1.2.0-cp310-cp310-win_amd64.whl.metadata (5.6 kB)\n",
      "Collecting pybcj<1.1.0,>=1.0.0 (from py7zr)\n",
      "  Downloading pybcj-1.0.6-cp310-cp310-win_amd64.whl.metadata (3.8 kB)\n",
      "Collecting multivolumefile>=0.2.3 (from py7zr)\n",
      "  Downloading multivolumefile-0.2.3-py3-none-any.whl.metadata (6.3 kB)\n",
      "Collecting inflate64<1.1.0,>=1.0.0 (from py7zr)\n",
      "  Downloading inflate64-1.0.3-cp310-cp310-win_amd64.whl.metadata (4.5 kB)\n",
      "Requirement already satisfied: typing-extensions>=4.13.2 in e:\\anaconda\\envs\\tfgpu\\lib\\site-packages (from pyzstd>=0.16.1->py7zr) (4.14.1)\n",
      "Downloading py7zr-1.0.0-py3-none-any.whl (69 kB)\n",
      "Downloading inflate64-1.0.3-cp310-cp310-win_amd64.whl (35 kB)\n",
      "Downloading pybcj-1.0.6-cp310-cp310-win_amd64.whl (24 kB)\n",
      "Downloading pyppmd-1.2.0-cp310-cp310-win_amd64.whl (46 kB)\n",
      "Downloading Brotli-1.1.0-cp310-cp310-win_amd64.whl (357 kB)\n",
      "Downloading multivolumefile-0.2.3-py3-none-any.whl (17 kB)\n",
      "Downloading pycryptodomex-3.23.0-cp37-abi3-win_amd64.whl (1.8 MB)\n",
      "   ---------------------------------------- 0.0/1.8 MB ? eta -:--:--\n",
      "   ----- ---------------------------------- 0.3/1.8 MB ? eta -:--:--\n",
      "   ---------------------------------- ----- 1.6/1.8 MB 4.0 MB/s eta 0:00:01\n",
      "   ---------------------------------------- 1.8/1.8 MB 3.8 MB/s eta 0:00:00\n",
      "Downloading pyzstd-0.17.0-cp310-cp310-win_amd64.whl (246 kB)\n",
      "Downloading texttable-1.7.0-py2.py3-none-any.whl (10 kB)\n",
      "Installing collected packages: texttable, brotli, pyzstd, pyppmd, pycryptodomex, pybcj, multivolumefile, inflate64, py7zr\n",
      "\n",
      "   ---------------------------------------- 0/9 [texttable]\n",
      "   -------- ------------------------------- 2/9 [pyzstd]\n",
      "   ------------- -------------------------- 3/9 [pyppmd]\n",
      "   ----------------- ---------------------- 4/9 [pycryptodomex]\n",
      "   ----------------- ---------------------- 4/9 [pycryptodomex]\n",
      "   ----------------- ---------------------- 4/9 [pycryptodomex]\n",
      "   ----------------- ---------------------- 4/9 [pycryptodomex]\n",
      "   ----------------- ---------------------- 4/9 [pycryptodomex]\n",
      "   ----------------- ---------------------- 4/9 [pycryptodomex]\n",
      "   ----------------- ---------------------- 4/9 [pycryptodomex]\n",
      "   ----------------- ---------------------- 4/9 [pycryptodomex]\n",
      "   ----------------- ---------------------- 4/9 [pycryptodomex]\n",
      "   ----------------- ---------------------- 4/9 [pycryptodomex]\n",
      "   ----------------- ---------------------- 4/9 [pycryptodomex]\n",
      "   ----------------- ---------------------- 4/9 [pycryptodomex]\n",
      "   ----------------- ---------------------- 4/9 [pycryptodomex]\n",
      "   ----------------- ---------------------- 4/9 [pycryptodomex]\n",
      "   ----------------- ---------------------- 4/9 [pycryptodomex]\n",
      "   ----------------- ---------------------- 4/9 [pycryptodomex]\n",
      "   ----------------- ---------------------- 4/9 [pycryptodomex]\n",
      "   ----------------- ---------------------- 4/9 [pycryptodomex]\n",
      "   ----------------- ---------------------- 4/9 [pycryptodomex]\n",
      "   ----------------- ---------------------- 4/9 [pycryptodomex]\n",
      "   ----------------- ---------------------- 4/9 [pycryptodomex]\n",
      "   ----------------- ---------------------- 4/9 [pycryptodomex]\n",
      "   ----------------- ---------------------- 4/9 [pycryptodomex]\n",
      "   ---------------------- ----------------- 5/9 [pybcj]\n",
      "   -------------------------- ------------- 6/9 [multivolumefile]\n",
      "   ----------------------------------- ---- 8/9 [py7zr]\n",
      "   ----------------------------------- ---- 8/9 [py7zr]\n",
      "   ---------------------------------------- 9/9 [py7zr]\n",
      "\n",
      "Successfully installed brotli-1.1.0 inflate64-1.0.3 multivolumefile-0.2.3 py7zr-1.0.0 pybcj-1.0.6 pycryptodomex-3.23.0 pyppmd-1.2.0 pyzstd-0.17.0 texttable-1.7.0\n"
     ]
    }
   ],
   "source": [
    "# !pip install py7zr "
   ]
  },
  {
   "cell_type": "markdown",
   "id": "dc0817ec",
   "metadata": {
    "vscode": {
     "languageId": "html"
    }
   },
   "source": [
    "<h3 style=\"color: brown;font-family: 'Franklin Gothic Medium', 'Arial Narrow', Arial, sans-serif; font-weight: bold;\">\n",
    "Defining all the paths\n",
    "</h3>"
   ]
  },
  {
   "cell_type": "code",
   "execution_count": null,
   "id": "329b9b17",
   "metadata": {},
   "outputs": [],
   "source": [
    "# Defining the Paths\n",
    "base_dir = \"cifar10_data\"\n",
    "train_7z = os.path.join(base_dir, \"train.7z\")\n",
    "test_7z = os.path.join(base_dir, \"test.7z\")\n",
    "train_labels_csv = os.path.join(base_dir, \"trainLabels.csv\")\n",
    "train_dir = os.path.join(base_dir, \"train/train\")\n",
    "test_dir = os.path.join(base_dir, \"test\")"
   ]
  },
  {
   "cell_type": "markdown",
   "id": "180639a2",
   "metadata": {},
   "source": [
    "<h3 style=\"color: brown;font-family: 'Franklin Gothic Medium', 'Arial Narrow', Arial, sans-serif; font-weight: bold;\">\n",
    "Extracting the data from files\n",
    "</h3>"
   ]
  },
  {
   "cell_type": "code",
   "execution_count": null,
   "id": "d625bdfe",
   "metadata": {},
   "outputs": [
    {
     "name": "stdout",
     "output_type": "stream",
     "text": [
      "Extracting cifar10_data\\train.7z...\n",
      "Extracting cifar10_data\\test.7z...\n"
     ]
    }
   ],
   "source": [
    "#  Extracting if not already extracted \n",
    "def extract_7z(file_path, extract_to):\n",
    "    if not os.path.exists(extract_to):\n",
    "        print(f\"Extracting {file_path}...\")\n",
    "        with py7zr.SevenZipFile(file_path, mode='r') as archive:\n",
    "            archive.extractall(path=extract_to)\n",
    "    else:\n",
    "        print(f\"{extract_to} already exists, skipping extraction.\")\n",
    "\n",
    "extract_7z(train_7z, train_dir)\n",
    "extract_7z(test_7z, test_dir)"
   ]
  },
  {
   "cell_type": "markdown",
   "id": "37660e9c",
   "metadata": {
    "vscode": {
     "languageId": "html"
    }
   },
   "source": [
    "<h3 style=\"color: brown;font-family: 'Franklin Gothic Medium', 'Arial Narrow', Arial, sans-serif; font-weight: bold;\">\n",
    "Loading the train Labels\n",
    "</h3>\n",
    "<div class=\"container\" style=\"color: rgb(212, 123, 13);font-family: 'Franklin Gothic Medium'\">\n",
    "    <li>frog</li>\n",
    "    <li>truck</li>\n",
    "    <li>deer</li>\n",
    "    <li>automobile</li>\n",
    "    <li>bird</li>\n",
    "    <li>horse</li>\n",
    "    <li>ship</li>\n",
    "    <li>cat</li>\n",
    "    <li>dog</li>\n",
    "    <li>airplane</li>\n",
    "</div>"
   ]
  },
  {
   "cell_type": "code",
   "execution_count": 56,
   "id": "cd95625a",
   "metadata": {},
   "outputs": [
    {
     "name": "stdout",
     "output_type": "stream",
     "text": [
      "Sample of labels:\n",
      "    id       label\n",
      "0   1        frog\n",
      "1   2       truck\n",
      "2   3       truck\n",
      "3   4        deer\n",
      "4   5  automobile\n",
      "Unique labels: ['frog' 'truck' 'deer' 'automobile' 'bird' 'horse' 'ship' 'cat' 'dog'\n",
      " 'airplane']\n",
      "Number of unique classes: 10\n"
     ]
    }
   ],
   "source": [
    "# Load train labels\n",
    "df_labels = pd.read_csv(train_labels_csv)\n",
    "print(\"Sample of labels:\\n\", df_labels.head())\n",
    "# All unique labels\n",
    "unique_labels = df_labels['label'].unique()\n",
    "print(\"Unique labels:\", unique_labels)\n",
    "\n",
    "# Count of unique labels\n",
    "print(\"Number of unique classes:\", df_labels['label'].nunique())"
   ]
  },
  {
   "cell_type": "markdown",
   "id": "035a04fc",
   "metadata": {},
   "source": [
    "<h3 style=\"color: brown;font-family: 'Franklin Gothic Medium', 'Arial Narrow', Arial, sans-serif; font-weight: bold;\">\n",
    "Displaying the Sample 16 Images\n",
    "</h3>"
   ]
  },
  {
   "cell_type": "code",
   "execution_count": null,
   "id": "7cae1667",
   "metadata": {},
   "outputs": [
    {
     "data": {
      "image/png": "[encoded data removed]",
      "text/plain": [
       "<Figure size 1000x1000 with 16 Axes>"
      ]
     },
     "metadata": {},
     "output_type": "display_data"
    }
   ],
   "source": [
    "# Displaying the Sample 16 Images\n",
    "sample_rows = df_labels.sample(16, random_state=42)\n",
    "\n",
    "# Create figure\n",
    "fig, axes = plt.subplots(4, 4, figsize=(10, 10))\n",
    "axes = axes.flatten()\n",
    "\n",
    "for i, (_, row) in enumerate(sample_rows.iterrows()):\n",
    "    img_name = f\"{row['id']}.png\"\n",
    "    img_path = os.path.join(train_dir, img_name)\n",
    "    \n",
    "    # Load and normalize image\n",
    "    img = load_img(img_path, target_size=IMG_SIZE)\n",
    "    img_array = img_to_array(img) / 255.0\n",
    "    \n",
    "    # Show image\n",
    "    axes[i].imshow(img_array)\n",
    "    axes[i].set_title(row['label'])\n",
    "    axes[i].axis('off')\n",
    "\n",
    "plt.tight_layout()\n",
    "plt.show()"
   ]
  },
  {
   "cell_type": "markdown",
   "id": "978c1c9b",
   "metadata": {},
   "source": [
    "<h3 style=\"color: brown;font-family: 'Franklin Gothic Medium', 'Arial Narrow', Arial, sans-serif; font-weight: bold;\">\n",
    "Loading Images + Preprocessing\n",
    "</h3>"
   ]
  },
  {
   "cell_type": "code",
   "execution_count": null,
   "id": "dbbadae4",
   "metadata": {},
   "outputs": [],
   "source": [
    "# Load images + preprocess\n",
    "IMG_SIZE = (32, 32)  # CIFAR-10 is originally 32x32\n",
    "X, y = [], []\n",
    "\n",
    "for _, row in df_labels.iterrows():\n",
    "    img_name = f\"{row['id']}.png\"\n",
    "    img_path = os.path.join(train_dir, img_name)\n",
    "    \n",
    "    img = load_img(img_path, target_size=IMG_SIZE)\n",
    "    img_array = img_to_array(img) / 255.0  # normalize to [0,1]\n",
    "    \n",
    "    X.append(img_array)\n",
    "    y.append(row['label'])\n",
    "\n",
    "X = np.array(X, dtype=np.float32)\n",
    "y = np.array(y)"
   ]
  },
  {
   "cell_type": "markdown",
   "id": "99027383",
   "metadata": {},
   "source": [
    "<h3 style=\"color: brown;font-family: 'Franklin Gothic Medium', 'Arial Narrow', Arial, sans-serif; font-weight: bold;\">\n",
    "Encoding the Labels to Numbers\n",
    "</h3>"
   ]
  },
  {
   "cell_type": "code",
   "execution_count": null,
   "id": "037a9279",
   "metadata": {},
   "outputs": [],
   "source": [
    "# Encode labels to numbers\n",
    "from sklearn.preprocessing import LabelEncoder\n",
    "label_encoder = LabelEncoder()\n",
    "y_encoded = label_encoder.fit_transform(y)\n",
    "y_onehot = to_categorical(y_encoded)"
   ]
  },
  {
   "cell_type": "code",
   "execution_count": 22,
   "id": "47085065",
   "metadata": {},
   "outputs": [
    {
     "name": "stdout",
     "output_type": "stream",
     "text": [
      "X shape: (50000, 32, 32, 3)\n",
      "y shape: (50000,)\n",
      "y_onehot shape: (50000, 10)\n"
     ]
    }
   ],
   "source": [
    "print(f\"X shape: {X.shape}\")\n",
    "print(f\"y shape: {y.shape}\")\n",
    "print(f\"y_onehot shape: {y_onehot.shape}\")"
   ]
  },
  {
   "cell_type": "markdown",
   "id": "ca64d554",
   "metadata": {},
   "source": [
    "<h3 style=\"color: brown;font-family: 'Franklin Gothic Medium', 'Arial Narrow', Arial, sans-serif; font-weight: bold;\">\n",
    "Splitting the train and validation\n",
    "</h3>"
   ]
  },
  {
   "cell_type": "code",
   "execution_count": null,
   "id": "d5d3afac",
   "metadata": {},
   "outputs": [],
   "source": [
    "# Train/Validation split\n",
    "X_train, X_val, y_train, y_val = train_test_split(\n",
    "    X, y_onehot, test_size=0.2, random_state=42, stratify=y_onehot\n",
    ")"
   ]
  },
  {
   "cell_type": "code",
   "execution_count": 12,
   "id": "8483d30c",
   "metadata": {},
   "outputs": [
    {
     "name": "stdout",
     "output_type": "stream",
     "text": [
      "Train shape: (40000, 32, 32, 3), Val shape: (10000, 32, 32, 3)\n",
      "Classes: ['airplane' 'automobile' 'bird' 'cat' 'deer' 'dog' 'frog' 'horse' 'ship'\n",
      " 'truck']\n"
     ]
    }
   ],
   "source": [
    "print(f\"Train shape: {X_train.shape}, Val shape: {X_val.shape}\")\n",
    "print(f\"Classes: {label_encoder.classes_}\")"
   ]
  },
  {
   "cell_type": "markdown",
   "id": "6df69514",
   "metadata": {},
   "source": [
    "<h3 style=\"color: brown;font-family: 'Franklin Gothic Medium', 'Arial Narrow', Arial, sans-serif; font-weight: bold;\">\n",
    "Data Augmentation\n",
    "</h3>"
   ]
  },
  {
   "cell_type": "code",
   "execution_count": null,
   "id": "418f8bcf",
   "metadata": {},
   "outputs": [],
   "source": [
    "# Data Augmentation\n",
    "train_datagen = ImageDataGenerator(\n",
    "    rotation_range=15,\n",
    "    width_shift_range=0.1,\n",
    "    height_shift_range=0.1,\n",
    "    horizontal_flip=True\n",
    ")\n",
    "\n",
    "val_datagen = ImageDataGenerator()  # no augmentation for validation\n",
    "\n",
    "train_generator = train_datagen.flow(X_train, y_train, batch_size=64)\n",
    "val_generator = val_datagen.flow(X_val, y_val, batch_size=64)"
   ]
  },
  {
   "cell_type": "markdown",
   "id": "78dc3639",
   "metadata": {},
   "source": [
    "<h1 style=\"color: brown;font-family: 'Franklin Gothic Medium', 'Arial Narrow', Arial, sans-serif; font-weight: bold;\">\n",
    "Building the Model ------------------- ResNet-Style Block\n",
    "</h1>"
   ]
  },
  {
   "cell_type": "code",
   "execution_count": null,
   "id": "cd32383a",
   "metadata": {},
   "outputs": [],
   "source": [
    "# Define ResNet-style block\n",
    "from tensorflow.keras.models import Sequential\n",
    "from tensorflow.keras.models import Model\n",
    "from tensorflow.keras.layers import Conv2D, MaxPooling2D, Flatten, Dense, Dropout,BatchNormalization,Input, Activation,GlobalAveragePooling2D, Add\n",
    "from tensorflow.keras.callbacks import EarlyStopping, ModelCheckpoint, ReduceLROnPlateau\n",
    "def resnet_block(x, filters, kernel_size=3):\n",
    "    shortcut = x\n",
    "    x = Conv2D(filters, kernel_size, padding='same', activation=None)(x)\n",
    "    x = BatchNormalization()(x)\n",
    "    x = Activation('relu')(x)\n",
    "    x = Conv2D(filters, kernel_size, padding='same', activation=None)(x)\n",
    "    x = BatchNormalization()(x)\n",
    "    x = Add()([shortcut, x])\n",
    "    x = Activation('relu')(x)\n",
    "    return x"
   ]
  },
  {
   "cell_type": "code",
   "execution_count": null,
   "id": "0166c7d2",
   "metadata": {},
   "outputs": [],
   "source": [
    "# Build ResNet-like model \n",
    "inputs = Input(shape=(32,32,3))\n",
    "x = Conv2D(32, (3,3), padding='same', activation='relu')(inputs)\n",
    "x = BatchNormalization()(x)\n",
    "\n",
    "# 3 ResNet blocks\n",
    "x = resnet_block(x, 32)\n",
    "x = resnet_block(x, 32)\n",
    "x = Conv2D(64, (3,3), strides=2, padding='same', activation='relu')(x)  # downsample\n",
    "x = BatchNormalization()(x)\n",
    "x = resnet_block(x, 64)\n",
    "x = resnet_block(x, 64)\n",
    "\n",
    "x = GlobalAveragePooling2D()(x)\n",
    "x = Dropout(0.5)(x)\n",
    "outputs = Dense(len(label_encoder.classes_), activation='softmax')(x)\n",
    "\n",
    "model = Model(inputs, outputs)\n",
    "model.compile(optimizer='adam', loss='categorical_crossentropy', metrics=['accuracy'])\n",
    "\n"
   ]
  },
  {
   "cell_type": "markdown",
   "id": "d384fc2c",
   "metadata": {},
   "source": [
    "<h3 style=\"color: brown;font-family: 'Franklin Gothic Medium', 'Arial Narrow', Arial, sans-serif; font-weight: bold;\">\n",
    "Using Callbacks Function\n",
    "</h3>"
   ]
  },
  {
   "cell_type": "code",
   "execution_count": null,
   "id": "5e1997fc",
   "metadata": {},
   "outputs": [],
   "source": [
    "# Using Callbacks Function \n",
    "callbacks = [\n",
    "    EarlyStopping(monitor='val_loss', patience=7, restore_best_weights=True),\n",
    "    ModelCheckpoint('best_cifar10_resnet.h5', save_best_only=True, monitor='val_loss'),\n",
    "    ReduceLROnPlateau(monitor='val_loss', factor=0.5, patience=3, min_lr=1e-5)\n",
    "]"
   ]
  },
  {
   "cell_type": "markdown",
   "id": "52527202",
   "metadata": {},
   "source": [
    "<h3 style=\"color: brown;font-family: 'Franklin Gothic Medium', 'Arial Narrow', Arial, sans-serif; font-weight: bold;\">\n",
    "Train the Model\n",
    "</h3>"
   ]
  },
  {
   "cell_type": "code",
   "execution_count": null,
   "id": "5212b412",
   "metadata": {},
   "outputs": [
    {
     "name": "stdout",
     "output_type": "stream",
     "text": [
      "Epoch 1/50\n",
      "625/625 [==============================] - 30s 44ms/step - loss: 1.7604 - accuracy: 0.3501 - val_loss: 1.9288 - val_accuracy: 0.3883 - lr: 0.0010\n",
      "Epoch 2/50\n",
      "625/625 [==============================] - 28s 44ms/step - loss: 1.3739 - accuracy: 0.4999 - val_loss: 1.7812 - val_accuracy: 0.4262 - lr: 0.0010\n",
      "Epoch 3/50\n",
      "625/625 [==============================] - 28s 45ms/step - loss: 1.2077 - accuracy: 0.5715 - val_loss: 1.1970 - val_accuracy: 0.5620 - lr: 0.0010\n",
      "Epoch 4/50\n",
      "625/625 [==============================] - 27s 43ms/step - loss: 1.1085 - accuracy: 0.6089 - val_loss: 1.2537 - val_accuracy: 0.5754 - lr: 0.0010\n",
      "Epoch 5/50\n",
      "625/625 [==============================] - 27s 43ms/step - loss: 1.0381 - accuracy: 0.6378 - val_loss: 1.2930 - val_accuracy: 0.5493 - lr: 0.0010\n",
      "Epoch 6/50\n",
      "625/625 [==============================] - 28s 45ms/step - loss: 0.9791 - accuracy: 0.6593 - val_loss: 0.9127 - val_accuracy: 0.6865 - lr: 0.0010\n",
      "Epoch 7/50\n",
      "625/625 [==============================] - 27s 43ms/step - loss: 0.9269 - accuracy: 0.6777 - val_loss: 1.0032 - val_accuracy: 0.6479 - lr: 0.0010\n",
      "Epoch 8/50\n",
      "625/625 [==============================] - 27s 43ms/step - loss: 0.8826 - accuracy: 0.6991 - val_loss: 1.0091 - val_accuracy: 0.6585 - lr: 0.0010\n",
      "Epoch 9/50\n",
      "625/625 [==============================] - 28s 44ms/step - loss: 0.8386 - accuracy: 0.7122 - val_loss: 1.0790 - val_accuracy: 0.6443 - lr: 0.0010\n",
      "Epoch 10/50\n",
      "625/625 [==============================] - 27s 43ms/step - loss: 0.7492 - accuracy: 0.7467 - val_loss: 0.8078 - val_accuracy: 0.7263 - lr: 5.0000e-04\n",
      "Epoch 11/50\n",
      "625/625 [==============================] - 27s 44ms/step - loss: 0.7193 - accuracy: 0.7563 - val_loss: 0.6410 - val_accuracy: 0.7746 - lr: 5.0000e-04\n",
      "Epoch 12/50\n",
      "625/625 [==============================] - 28s 44ms/step - loss: 0.7012 - accuracy: 0.7653 - val_loss: 0.6764 - val_accuracy: 0.7667 - lr: 5.0000e-04\n",
      "Epoch 13/50\n",
      "625/625 [==============================] - 27s 43ms/step - loss: 0.6840 - accuracy: 0.7706 - val_loss: 0.6498 - val_accuracy: 0.7800 - lr: 5.0000e-04\n",
      "Epoch 14/50\n",
      "625/625 [==============================] - 27s 44ms/step - loss: 0.6682 - accuracy: 0.7756 - val_loss: 0.6127 - val_accuracy: 0.7861 - lr: 5.0000e-04\n",
      "Epoch 15/50\n",
      "625/625 [==============================] - 28s 44ms/step - loss: 0.6447 - accuracy: 0.7826 - val_loss: 0.7128 - val_accuracy: 0.7588 - lr: 5.0000e-04\n",
      "Epoch 16/50\n",
      "625/625 [==============================] - 27s 43ms/step - loss: 0.6396 - accuracy: 0.7854 - val_loss: 0.7261 - val_accuracy: 0.7620 - lr: 5.0000e-04\n",
      "Epoch 17/50\n",
      "625/625 [==============================] - 27s 43ms/step - loss: 0.6254 - accuracy: 0.7911 - val_loss: 0.6395 - val_accuracy: 0.7849 - lr: 5.0000e-04\n",
      "Epoch 18/50\n",
      "625/625 [==============================] - 28s 45ms/step - loss: 0.5773 - accuracy: 0.8086 - val_loss: 0.5933 - val_accuracy: 0.7982 - lr: 2.5000e-04\n",
      "Epoch 19/50\n",
      "625/625 [==============================] - 27s 43ms/step - loss: 0.5683 - accuracy: 0.8120 - val_loss: 0.6929 - val_accuracy: 0.7703 - lr: 2.5000e-04\n",
      "Epoch 20/50\n",
      "625/625 [==============================] - 27s 44ms/step - loss: 0.5630 - accuracy: 0.8137 - val_loss: 0.5443 - val_accuracy: 0.8124 - lr: 2.5000e-04\n",
      "Epoch 21/50\n",
      "625/625 [==============================] - 28s 45ms/step - loss: 0.5579 - accuracy: 0.8115 - val_loss: 0.5212 - val_accuracy: 0.8236 - lr: 2.5000e-04\n",
      "Epoch 22/50\n",
      "625/625 [==============================] - 27s 43ms/step - loss: 0.5447 - accuracy: 0.8174 - val_loss: 0.5525 - val_accuracy: 0.8116 - lr: 2.5000e-04\n",
      "Epoch 23/50\n",
      "625/625 [==============================] - 27s 43ms/step - loss: 0.5445 - accuracy: 0.8176 - val_loss: 0.6053 - val_accuracy: 0.8027 - lr: 2.5000e-04\n",
      "Epoch 24/50\n",
      "625/625 [==============================] - 27s 43ms/step - loss: 0.5393 - accuracy: 0.8205 - val_loss: 0.5189 - val_accuracy: 0.8280 - lr: 2.5000e-04\n",
      "Epoch 25/50\n",
      "625/625 [==============================] - 27s 43ms/step - loss: 0.5333 - accuracy: 0.8243 - val_loss: 0.5900 - val_accuracy: 0.8091 - lr: 2.5000e-04\n",
      "Epoch 26/50\n",
      "625/625 [==============================] - 27s 43ms/step - loss: 0.5244 - accuracy: 0.8232 - val_loss: 0.5703 - val_accuracy: 0.8153 - lr: 2.5000e-04\n",
      "Epoch 27/50\n",
      "625/625 [==============================] - 28s 45ms/step - loss: 0.5251 - accuracy: 0.8250 - val_loss: 0.5554 - val_accuracy: 0.8168 - lr: 2.5000e-04\n",
      "Epoch 28/50\n",
      "625/625 [==============================] - 27s 44ms/step - loss: 0.4960 - accuracy: 0.8340 - val_loss: 0.5364 - val_accuracy: 0.8240 - lr: 1.2500e-04\n",
      "Epoch 29/50\n",
      "625/625 [==============================] - 27s 44ms/step - loss: 0.4903 - accuracy: 0.8393 - val_loss: 0.4716 - val_accuracy: 0.8410 - lr: 1.2500e-04\n",
      "Epoch 30/50\n",
      "625/625 [==============================] - 28s 45ms/step - loss: 0.4860 - accuracy: 0.8389 - val_loss: 0.5223 - val_accuracy: 0.8259 - lr: 1.2500e-04\n",
      "Epoch 31/50\n",
      "625/625 [==============================] - 28s 45ms/step - loss: 0.4803 - accuracy: 0.8389 - val_loss: 0.4880 - val_accuracy: 0.8372 - lr: 1.2500e-04\n",
      "Epoch 32/50\n",
      "625/625 [==============================] - 28s 44ms/step - loss: 0.4823 - accuracy: 0.8390 - val_loss: 0.4804 - val_accuracy: 0.8376 - lr: 1.2500e-04\n",
      "Epoch 33/50\n",
      "625/625 [==============================] - 29s 47ms/step - loss: 0.4683 - accuracy: 0.8447 - val_loss: 0.4732 - val_accuracy: 0.8391 - lr: 6.2500e-05\n",
      "Epoch 34/50\n",
      "625/625 [==============================] - 28s 45ms/step - loss: 0.4682 - accuracy: 0.8425 - val_loss: 0.4700 - val_accuracy: 0.8426 - lr: 6.2500e-05\n",
      "Epoch 35/50\n",
      "625/625 [==============================] - 27s 44ms/step - loss: 0.4686 - accuracy: 0.8428 - val_loss: 0.5040 - val_accuracy: 0.8331 - lr: 6.2500e-05\n",
      "Epoch 36/50\n",
      "625/625 [==============================] - 28s 45ms/step - loss: 0.4641 - accuracy: 0.8467 - val_loss: 0.4565 - val_accuracy: 0.8465 - lr: 6.2500e-05\n",
      "Epoch 37/50\n",
      "625/625 [==============================] - 27s 43ms/step - loss: 0.4602 - accuracy: 0.8473 - val_loss: 0.4723 - val_accuracy: 0.8430 - lr: 6.2500e-05\n",
      "Epoch 38/50\n",
      "625/625 [==============================] - 27s 43ms/step - loss: 0.4588 - accuracy: 0.8463 - val_loss: 0.4615 - val_accuracy: 0.8437 - lr: 6.2500e-05\n",
      "Epoch 39/50\n",
      "625/625 [==============================] - 28s 45ms/step - loss: 0.4584 - accuracy: 0.8455 - val_loss: 0.4810 - val_accuracy: 0.8431 - lr: 6.2500e-05\n",
      "Epoch 40/50\n",
      "625/625 [==============================] - 27s 43ms/step - loss: 0.4549 - accuracy: 0.8481 - val_loss: 0.4501 - val_accuracy: 0.8465 - lr: 3.1250e-05\n",
      "Epoch 41/50\n",
      "625/625 [==============================] - 27s 43ms/step - loss: 0.4548 - accuracy: 0.8486 - val_loss: 0.4728 - val_accuracy: 0.8432 - lr: 3.1250e-05\n",
      "Epoch 42/50\n",
      "625/625 [==============================] - 28s 45ms/step - loss: 0.4441 - accuracy: 0.8537 - val_loss: 0.4696 - val_accuracy: 0.8439 - lr: 3.1250e-05\n",
      "Epoch 43/50\n",
      "625/625 [==============================] - 28s 44ms/step - loss: 0.4499 - accuracy: 0.8500 - val_loss: 0.4736 - val_accuracy: 0.8422 - lr: 3.1250e-05\n",
      "Epoch 44/50\n",
      "625/625 [==============================] - 27s 43ms/step - loss: 0.4461 - accuracy: 0.8511 - val_loss: 0.4513 - val_accuracy: 0.8470 - lr: 1.5625e-05\n",
      "Epoch 45/50\n",
      "625/625 [==============================] - 28s 45ms/step - loss: 0.4451 - accuracy: 0.8510 - val_loss: 0.4580 - val_accuracy: 0.8470 - lr: 1.5625e-05\n",
      "Epoch 46/50\n",
      "625/625 [==============================] - 27s 44ms/step - loss: 0.4435 - accuracy: 0.8531 - val_loss: 0.4581 - val_accuracy: 0.8464 - lr: 1.5625e-05\n",
      "Epoch 47/50\n",
      "625/625 [==============================] - 27s 43ms/step - loss: 0.4448 - accuracy: 0.8511 - val_loss: 0.4554 - val_accuracy: 0.8469 - lr: 1.0000e-05\n"
     ]
    }
   ],
   "source": [
    "# Train the model\n",
    "history = model.fit(\n",
    "    train_generator,\n",
    "    validation_data=val_generator,\n",
    "    epochs=50,\n",
    "    callbacks=callbacks\n",
    ")"
   ]
  },
  {
   "cell_type": "markdown",
   "id": "25c95698",
   "metadata": {},
   "source": [
    "<h3 style=\"color: brown;font-family: 'Franklin Gothic Medium', 'Arial Narrow', Arial, sans-serif; font-weight: bold;\">\n",
    "Saving the Model\n",
    "</h3>"
   ]
  },
  {
   "cell_type": "code",
   "execution_count": null,
   "id": "6e6f81d9",
   "metadata": {},
   "outputs": [
    {
     "name": "stdout",
     "output_type": "stream",
     "text": [
      "Model saved successfully!\n"
     ]
    }
   ],
   "source": [
    "# Save the  model\n",
    "model.save(\"cifar10_resnet_model.h5\")\n",
    "print(\"Model saved successfully!\")\n"
   ]
  },
  {
   "cell_type": "markdown",
   "id": "5f8eccf8",
   "metadata": {},
   "source": [
    "<h3 style=\"color: brown;font-family: 'Franklin Gothic Medium', 'Arial Narrow', Arial, sans-serif; font-weight: bold;\">\n",
    "Loading the Model\n",
    "</h3>"
   ]
  },
  {
   "cell_type": "code",
   "execution_count": 45,
   "id": "b149c1f5",
   "metadata": {},
   "outputs": [
    {
     "name": "stdout",
     "output_type": "stream",
     "text": [
      "Model loaded successfully!\n"
     ]
    }
   ],
   "source": [
    "from tensorflow.keras.models import load_model\n",
    "\n",
    "# Load the saved model\n",
    "loaded_model = load_model(\"cifar10_resnet_model.h5\")\n",
    "print(\"Model loaded successfully!\")\n"
   ]
  },
  {
   "cell_type": "code",
   "execution_count": 46,
   "id": "2afaa430",
   "metadata": {},
   "outputs": [
    {
     "name": "stdout",
     "output_type": "stream",
     "text": [
      "Validation Loss: 0.4501\n",
      "Validation Accuracy: 84.65%\n"
     ]
    }
   ],
   "source": [
    "# Evaluate model on validation data\n",
    "val_loss, val_accuracy = loaded_model.evaluate(X_val, y_val, verbose=0)\n",
    "\n",
    "print(f\"Validation Loss: {val_loss:.4f}\")\n",
    "print(f\"Validation Accuracy: {val_accuracy*100:.2f}%\")"
   ]
  },
  {
   "cell_type": "markdown",
   "id": "7da325bb",
   "metadata": {},
   "source": [
    "<h3 style=\"color: brown;font-family: 'Franklin Gothic Medium', 'Arial Narrow', Arial, sans-serif; font-weight: bold;\">\n",
    "Checking the Model Prediction\n",
    "</h3>"
   ]
  },
  {
   "cell_type": "code",
   "execution_count": 47,
   "id": "23178923",
   "metadata": {},
   "outputs": [],
   "source": [
    "import numpy as np\n",
    "from tensorflow.keras.preprocessing.image import load_img, img_to_array\n",
    "\n",
    "# Load label encoder (or recreate it)\n",
    "import pandas as pd\n",
    "from sklearn.preprocessing import LabelEncoder\n",
    "\n",
    "df_labels = pd.read_csv(\"cifar10_data/trainLabels.csv\")\n",
    "y = df_labels['label'].values\n",
    "label_encoder = LabelEncoder()\n",
    "label_encoder.fit(y)\n",
    "\n",
    "IMG_SIZE = (32, 32)\n",
    "\n",
    "def predict_image(img_path, model, label_encoder):\n",
    "    \"\"\"\n",
    "    Predict the class of a single image.\n",
    "    \n",
    "    Parameters:\n",
    "        img_path: str -> path to the image\n",
    "        model: trained keras model\n",
    "        label_encoder: LabelEncoder used to encode training labels\n",
    "    Returns:\n",
    "        predicted label (str)\n",
    "    \"\"\"\n",
    "    # Load and preprocess image\n",
    "    img = load_img(img_path, target_size=IMG_SIZE)\n",
    "    img_array = img_to_array(img) / 255.0\n",
    "    img_array = np.expand_dims(img_array, axis=0)  # add batch dimension\n",
    "\n",
    "    # Predict\n",
    "    preds = model.predict(img_array)\n",
    "    pred_class = np.argmax(preds, axis=1)\n",
    "    \n",
    "    # Convert numeric label to string label\n",
    "    label = label_encoder.inverse_transform(pred_class)[0]\n",
    "    return label\n"
   ]
  },
  {
   "cell_type": "markdown",
   "id": "7f4c593c",
   "metadata": {},
   "source": [
    "<h3 style=\"color: brown;font-family: 'Franklin Gothic Medium', 'Arial Narrow', Arial, sans-serif; font-weight: bold;\">\n",
    "Test the Random Image Here\n",
    "</h3>"
   ]
  },
  {
   "cell_type": "code",
   "execution_count": 49,
   "id": "c2670b6e",
   "metadata": {},
   "outputs": [
    {
     "name": "stdout",
     "output_type": "stream",
     "text": [
      "1/1 [==============================] - 0s 31ms/step\n",
      "Predicted class: frog\n"
     ]
    }
   ],
   "source": [
    "# Example image path\n",
    "test_image_path = \"frog.jpg\"  # replace with your image path\n",
    "\n",
    "predicted_label = predict_image(test_image_path, loaded_model, label_encoder)\n",
    "print(f\"Predicted class: {predicted_label}\")\n"
   ]
  }
 ],
 "metadata": {
  "kernelspec": {
   "display_name": "tfgpu",
   "language": "python",
   "name": "python3"
  },
  "language_info": {
   "codemirror_mode": {
    "name": "ipython",
    "version": 3
   },
   "file_extension": ".py",
   "mimetype": "text/x-python",
   "name": "python",
   "nbconvert_exporter": "python",
   "pygments_lexer": "ipython3",
   "version": "3.10.18"
  }
 },
 "nbformat": 4,
 "nbformat_minor": 5
}
