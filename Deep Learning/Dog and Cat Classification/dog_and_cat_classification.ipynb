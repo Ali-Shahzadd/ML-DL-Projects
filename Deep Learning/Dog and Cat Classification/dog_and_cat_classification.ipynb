{
 "cells": [
  {
   "cell_type": "markdown",
   "id": "1dfff306",
   "metadata": {},
   "source": [
    "<h1 style=\"font-family:'Poppins', Arial, sans-serif; font-weight:700; color:#1e8449; text-align:center; margin-bottom:20px; letter-spacing:1px; font-size:40px;\">👨‍💻 Author: <span style=\"color:#0cd865;\">Ali Hassan</span></h1>\n",
    "\n",
    "<div style=\"text-align:center; margin-top:20px; line-height:3; font-size:18px;\">\n",
    "  <span style=\"margin-right:8px;\"></span><a href=\"https://github.com/Ali-Shahzadd\"><img src=\"https://img.shields.io/badge/GitHub-Profile-181717?style=flat-square&logo=github&logoColor=white\" alt=\"GitHub\" style=\"height:30px;\"></a>\n",
    "  <span style=\"margin-left:15px; margin-right:8px;\"></span><a href=\"https://www.kaggle.com/alihassanshahzad786\"><img src=\"https://img.shields.io/badge/Kaggle-Profile-20BEFF?style=flat-square&logo=kaggle&logoColor=white\" alt=\"Kaggle\" style=\"height:30px;\"></a>\n",
    "  <span style=\"margin-left:15px; margin-right:8px;\"></span><a href=\"https://www.linkedin.com/in/ali-hassan-3952a2290/\"><img src=\"https://img.shields.io/badge/LinkedIn-Profile-0077B5?style=flat-square&logo=linkedin&logoColor=white\" alt=\"LinkedIn\" style=\"height:30px;\"></a>\n",
    "  <span style=\"margin-left:15px; margin-right:8px;\"></span><a href=\"https://x.com/alishahzadddd?s=21\"><img src=\"https://img.shields.io/badge/Twitter-Profile-1DA1F2?style=flat-square&logo=twitter&logoColor=white\" alt=\"Twitter\" style=\"height:30px;\"></a>\n",
    "</div>\n",
    "\n"
   ]
  },
  {
   "cell_type": "markdown",
   "id": "f1dc0d3d",
   "metadata": {},
   "source": []
  },
  {
   "cell_type": "markdown",
   "id": "52dc9a0c",
   "metadata": {},
   "source": [
    "<h1 style=\"\n",
    "    font-family: 'Segoe UI', Tahoma, Geneva, Verdana, sans-serif;\n",
    "    font-size: 2.5rem;\n",
    "    font-weight: 700;\n",
    "    color: #2c3e50;\n",
    "    margin-top: 20px;\n",
    "    letter-spacing: 1px;\n",
    "\">\n",
    "    🐶🐱 Dog and Cat Classification\n",
    "</h1>\n",
    "\n",
    "### ---------------------------------\n",
    "### Author: `Ali Hassan`\n",
    "### Project: Cats vs Dogs Classification\n",
    "\n",
    "**Dataset:** [ Cats vs Dogs (Kaggle)](https://www.kaggle.com/datasets/shaunthesheep/microsoft-catsvsdogs-dataset/data)\n",
    "\n",
    "\n",
    "\n",
    "- **Total images:** ~25,000 (cats + dogs)  \n",
    "- **Split:** Train / Validation / Test  \n",
    "\n",
    "---\n",
    "\n",
    "## 🧰 Steps in This Notebook\n",
    "\n",
    "1. **Data Loading & Preprocessing**  \n",
    "   - Resize images to **128×128**  \n",
    "   - Normalize pixel values to `[0, 1]`  \n",
    "   - Train/Val/Test split  \n",
    "\n",
    "2. **Model Architecture**  \n",
    "   - `Conv2D → MaxPooling → Dropout → Dense`  \n",
    "   - Final layer: `Dense(1, activation=\"sigmoid\")`  \n",
    "\n",
    "3. **Training**  \n",
    "   - Loss: `binary_crossentropy`  \n",
    "   - Optimizer: `adam`  \n",
    "   - Metrics: `accuracy`  \n",
    "\n",
    "4. **Evaluation & Visualization**  \n",
    "   - Plot **loss & accuracy curves**  \n",
    "   - Show random predictions with images  \n",
    "\n",
    "5. **Prediction on New Images**  \n",
    "   - Upload your own cat/dog image  \n",
    "   - Display model’s prediction & confidence  \n",
    "\n",
    "---\n",
    "\n",
    "## 🔗 Useful Links\n",
    "\n",
    "- 📑 **Dataset:** [Kaggle — Microsoft Cats vs Dogs](https://www.kaggle.com/datasets/shaunthesheep/microsoft-catsvsdogs-dataset/data)  \n",
    "- 📚 **TensorFlow Docs:** [Image Classification Guide](https://www.tensorflow.org/tutorials/images/classification)  \n",
    "- 🧠 **Model Visualization:** [Keras Model Plot](https://keras.io/api/utils/model_plotting_utils/)  \n",
    "- 🎨 **Matplotlib Docs:** [Customizing Plots](https://matplotlib.org/stable/tutorials/introductory/customizing.html)\n",
    "\n",
    "---\n"
   ]
  },
  {
   "cell_type": "code",
   "execution_count": 1,
   "id": "08d0900e",
   "metadata": {},
   "outputs": [],
   "source": [
    "# ============================================================\n",
    "#  IMPORT LIBRARIES\n",
    "# ============================================================\n",
    "import os\n",
    "import numpy as np\n",
    "import matplotlib.pyplot as plt\n",
    "import tensorflow as tf\n",
    "from tensorflow.keras import layers, models\n",
    "from sklearn.metrics import classification_report, confusion_matrix\n",
    "import seaborn as sns\n",
    "import warnings\n",
    "warnings.filterwarnings('ignore')"
   ]
  },
  {
   "cell_type": "markdown",
   "id": "93ec25ae",
   "metadata": {},
   "source": [
    "### Loading the Data and Preprocessing"
   ]
  },
  {
   "cell_type": "code",
   "execution_count": null,
   "id": "d39a0c91",
   "metadata": {},
   "outputs": [
    {
     "name": "stdout",
     "output_type": "stream",
     "text": [
      "TensorFlow version: 2.10.1\n",
      "Num GPUs Available:  1\n",
      "Found 24824 files belonging to 2 classes.\n",
      "Using 19860 files for training.\n",
      "Found 24824 files belonging to 2 classes.\n",
      "Using 4964 files for validation.\n",
      "Epoch 1/30\n",
      "WARNING:tensorflow:Using a while_loop for converting RngReadAndSkip cause there is no registered converter for this op.\n",
      "WARNING:tensorflow:Using a while_loop for converting Bitcast cause there is no registered converter for this op.\n",
      "WARNING:tensorflow:Using a while_loop for converting Bitcast cause there is no registered converter for this op.\n",
      "WARNING:tensorflow:Using a while_loop for converting StatelessRandomUniformV2 cause there is no registered converter for this op.\n",
      "WARNING:tensorflow:Using a while_loop for converting ImageProjectiveTransformV3 cause there is no registered converter for this op.\n",
      "WARNING:tensorflow:Using a while_loop for converting RngReadAndSkip cause there is no registered converter for this op.\n",
      "WARNING:tensorflow:Using a while_loop for converting Bitcast cause there is no registered converter for this op.\n",
      "WARNING:tensorflow:Using a while_loop for converting Bitcast cause there is no registered converter for this op.\n",
      "WARNING:tensorflow:Using a while_loop for converting StatelessRandomUniformV2 cause there is no registered converter for this op.\n",
      "WARNING:tensorflow:Using a while_loop for converting ImageProjectiveTransformV3 cause there is no registered converter for this op.\n",
      "WARNING:tensorflow:Using a while_loop for converting RngReadAndSkip cause there is no registered converter for this op.\n",
      "WARNING:tensorflow:Using a while_loop for converting Bitcast cause there is no registered converter for this op.\n",
      "WARNING:tensorflow:Using a while_loop for converting Bitcast cause there is no registered converter for this op.\n",
      "WARNING:tensorflow:Using a while_loop for converting StatelessRandomUniformV2 cause there is no registered converter for this op.\n",
      "WARNING:tensorflow:Using a while_loop for converting ImageProjectiveTransformV3 cause there is no registered converter for this op.\n",
      "WARNING:tensorflow:Using a while_loop for converting RngReadAndSkip cause there is no registered converter for this op.\n",
      "WARNING:tensorflow:Using a while_loop for converting Bitcast cause there is no registered converter for this op.\n",
      "WARNING:tensorflow:Using a while_loop for converting Bitcast cause there is no registered converter for this op.\n",
      "WARNING:tensorflow:Using a while_loop for converting StatelessRandomUniformV2 cause there is no registered converter for this op.\n",
      "WARNING:tensorflow:Using a while_loop for converting ImageProjectiveTransformV3 cause there is no registered converter for this op.\n",
      "WARNING:tensorflow:Using a while_loop for converting RngReadAndSkip cause there is no registered converter for this op.\n",
      "WARNING:tensorflow:Using a while_loop for converting Bitcast cause there is no registered converter for this op.\n",
      "WARNING:tensorflow:Using a while_loop for converting Bitcast cause there is no registered converter for this op.\n",
      "WARNING:tensorflow:Using a while_loop for converting StatelessRandomUniformV2 cause there is no registered converter for this op.\n",
      "WARNING:tensorflow:Using a while_loop for converting ImageProjectiveTransformV3 cause there is no registered converter for this op.\n",
      "WARNING:tensorflow:Using a while_loop for converting RngReadAndSkip cause there is no registered converter for this op.\n",
      "WARNING:tensorflow:Using a while_loop for converting Bitcast cause there is no registered converter for this op.\n",
      "WARNING:tensorflow:Using a while_loop for converting Bitcast cause there is no registered converter for this op.\n",
      "WARNING:tensorflow:Using a while_loop for converting StatelessRandomUniformV2 cause there is no registered converter for this op.\n",
      "WARNING:tensorflow:Using a while_loop for converting ImageProjectiveTransformV3 cause there is no registered converter for this op.\n",
      "WARNING:tensorflow:Using a while_loop for converting RngReadAndSkip cause there is no registered converter for this op.\n",
      "WARNING:tensorflow:Using a while_loop for converting Bitcast cause there is no registered converter for this op.\n",
      "WARNING:tensorflow:Using a while_loop for converting Bitcast cause there is no registered converter for this op.\n",
      "WARNING:tensorflow:Using a while_loop for converting StatelessRandomUniformV2 cause there is no registered converter for this op.\n",
      "WARNING:tensorflow:Using a while_loop for converting ImageProjectiveTransformV3 cause there is no registered converter for this op.\n",
      "WARNING:tensorflow:Using a while_loop for converting RngReadAndSkip cause there is no registered converter for this op.\n",
      "WARNING:tensorflow:Using a while_loop for converting Bitcast cause there is no registered converter for this op.\n",
      "WARNING:tensorflow:Using a while_loop for converting Bitcast cause there is no registered converter for this op.\n",
      "WARNING:tensorflow:Using a while_loop for converting StatelessRandomUniformV2 cause there is no registered converter for this op.\n",
      "WARNING:tensorflow:Using a while_loop for converting ImageProjectiveTransformV3 cause there is no registered converter for this op.\n",
      "621/621 [==============================] - 203s 293ms/step - loss: 0.6180 - accuracy: 0.6539 - val_loss: 0.5736 - val_accuracy: 0.6928\n",
      "Epoch 2/30\n",
      "621/621 [==============================] - 181s 291ms/step - loss: 0.5307 - accuracy: 0.7359 - val_loss: 0.4642 - val_accuracy: 0.7810\n",
      "Epoch 3/30\n",
      "621/621 [==============================] - 181s 292ms/step - loss: 0.4822 - accuracy: 0.7692 - val_loss: 0.4424 - val_accuracy: 0.7977\n",
      "Epoch 4/30\n",
      "621/621 [==============================] - 181s 292ms/step - loss: 0.4475 - accuracy: 0.7888 - val_loss: 0.3972 - val_accuracy: 0.8233\n",
      "Epoch 5/30\n",
      "621/621 [==============================] - 181s 292ms/step - loss: 0.4149 - accuracy: 0.8100 - val_loss: 0.3782 - val_accuracy: 0.8257\n",
      "Epoch 6/30\n",
      "621/621 [==============================] - 182s 292ms/step - loss: 0.3984 - accuracy: 0.8184 - val_loss: 0.3596 - val_accuracy: 0.8394\n",
      "Epoch 7/30\n",
      "621/621 [==============================] - 181s 292ms/step - loss: 0.3781 - accuracy: 0.8299 - val_loss: 0.3740 - val_accuracy: 0.8362\n",
      "Epoch 8/30\n",
      "621/621 [==============================] - 180s 290ms/step - loss: 0.3559 - accuracy: 0.8412 - val_loss: 0.3322 - val_accuracy: 0.8586\n",
      "Epoch 9/30\n",
      "621/621 [==============================] - 181s 291ms/step - loss: 0.3433 - accuracy: 0.8491 - val_loss: 0.3358 - val_accuracy: 0.8590\n",
      "Epoch 10/30\n",
      "621/621 [==============================] - 181s 291ms/step - loss: 0.3332 - accuracy: 0.8527 - val_loss: 0.3081 - val_accuracy: 0.8697\n",
      "Epoch 11/30\n",
      "621/621 [==============================] - 181s 292ms/step - loss: 0.3116 - accuracy: 0.8632 - val_loss: 0.3486 - val_accuracy: 0.8445\n",
      "Epoch 12/30\n",
      "621/621 [==============================] - 182s 293ms/step - loss: 0.2995 - accuracy: 0.8710 - val_loss: 0.3031 - val_accuracy: 0.8701\n",
      "Epoch 13/30\n",
      "621/621 [==============================] - 180s 291ms/step - loss: 0.2894 - accuracy: 0.8727 - val_loss: 0.2795 - val_accuracy: 0.8820\n",
      "Epoch 14/30\n",
      "621/621 [==============================] - 181s 291ms/step - loss: 0.2725 - accuracy: 0.8853 - val_loss: 0.3071 - val_accuracy: 0.8723\n",
      "Epoch 15/30\n",
      "621/621 [==============================] - 181s 291ms/step - loss: 0.2654 - accuracy: 0.8884 - val_loss: 0.3647 - val_accuracy: 0.8499\n",
      "Epoch 16/30\n",
      "621/621 [==============================] - 181s 291ms/step - loss: 0.2518 - accuracy: 0.8931 - val_loss: 0.2687 - val_accuracy: 0.8860\n",
      "Epoch 17/30\n",
      "621/621 [==============================] - 181s 292ms/step - loss: 0.2468 - accuracy: 0.8961 - val_loss: 0.2806 - val_accuracy: 0.8844\n",
      "Epoch 18/30\n",
      "621/621 [==============================] - 181s 291ms/step - loss: 0.2413 - accuracy: 0.8984 - val_loss: 0.2736 - val_accuracy: 0.8880\n",
      "Epoch 19/30\n",
      "621/621 [==============================] - 181s 292ms/step - loss: 0.2316 - accuracy: 0.9031 - val_loss: 0.2739 - val_accuracy: 0.8926\n",
      "Epoch 20/30\n",
      "621/621 [==============================] - 180s 291ms/step - loss: 0.2250 - accuracy: 0.9066 - val_loss: 0.3560 - val_accuracy: 0.8614\n",
      "Epoch 21/30\n",
      "621/621 [==============================] - 180s 290ms/step - loss: 0.2107 - accuracy: 0.9104 - val_loss: 0.2492 - val_accuracy: 0.8993\n",
      "Epoch 22/30\n",
      "621/621 [==============================] - 180s 289ms/step - loss: 0.2062 - accuracy: 0.9155 - val_loss: 0.3112 - val_accuracy: 0.8801\n",
      "Epoch 23/30\n",
      "621/621 [==============================] - 180s 291ms/step - loss: 0.1991 - accuracy: 0.9182 - val_loss: 0.3361 - val_accuracy: 0.8660\n",
      "Epoch 24/30\n",
      "621/621 [==============================] - 180s 290ms/step - loss: 0.1997 - accuracy: 0.9193 - val_loss: 0.2718 - val_accuracy: 0.8959\n",
      "Epoch 25/30\n",
      "621/621 [==============================] - 181s 292ms/step - loss: 0.1857 - accuracy: 0.9231 - val_loss: 0.2549 - val_accuracy: 0.8985\n",
      "Epoch 26/30\n",
      "621/621 [==============================] - 182s 293ms/step - loss: 0.1862 - accuracy: 0.9240 - val_loss: 0.2428 - val_accuracy: 0.9021\n",
      "Epoch 27/30\n",
      "621/621 [==============================] - 181s 292ms/step - loss: 0.1775 - accuracy: 0.9264 - val_loss: 0.2663 - val_accuracy: 0.8971\n",
      "Epoch 28/30\n",
      "621/621 [==============================] - 181s 292ms/step - loss: 0.1724 - accuracy: 0.9288 - val_loss: 0.2543 - val_accuracy: 0.9057\n",
      "Epoch 29/30\n",
      "621/621 [==============================] - 182s 293ms/step - loss: 0.1725 - accuracy: 0.9314 - val_loss: 0.2624 - val_accuracy: 0.8936\n",
      "Epoch 30/30\n",
      "621/621 [==============================] - 179s 289ms/step - loss: 0.1576 - accuracy: 0.9397 - val_loss: 0.3436 - val_accuracy: 0.8791\n"
     ]
    },
    {
     "data": {
      "image/png": "[encoded data removed]",
      "text/plain": [
       "<Figure size 1200x500 with 2 Axes>"
      ]
     },
     "metadata": {},
     "output_type": "display_data"
    },
    {
     "name": "stdout",
     "output_type": "stream",
     "text": [
      "1/1 [==============================] - 0s 212ms/step\n",
      "1/1 [==============================] - 0s 29ms/step\n",
      "1/1 [==============================] - 0s 28ms/step\n",
      "1/1 [==============================] - 0s 27ms/step\n",
      "1/1 [==============================] - 0s 26ms/step\n",
      "1/1 [==============================] - 0s 27ms/step\n",
      "1/1 [==============================] - 0s 27ms/step\n",
      "1/1 [==============================] - 0s 27ms/step\n",
      "1/1 [==============================] - 0s 26ms/step\n",
      "1/1 [==============================] - 0s 28ms/step\n",
      "1/1 [==============================] - 0s 27ms/step\n",
      "1/1 [==============================] - 0s 27ms/step\n",
      "1/1 [==============================] - 0s 26ms/step\n",
      "1/1 [==============================] - 0s 25ms/step\n",
      "1/1 [==============================] - 0s 26ms/step\n",
      "1/1 [==============================] - 0s 25ms/step\n",
      "1/1 [==============================] - 0s 27ms/step\n",
      "1/1 [==============================] - 0s 26ms/step\n",
      "1/1 [==============================] - 0s 25ms/step\n",
      "1/1 [==============================] - 0s 25ms/step\n",
      "1/1 [==============================] - 0s 25ms/step\n",
      "1/1 [==============================] - 0s 28ms/step\n",
      "1/1 [==============================] - 0s 25ms/step\n",
      "1/1 [==============================] - 0s 25ms/step\n",
      "1/1 [==============================] - 0s 26ms/step\n",
      "1/1 [==============================] - 0s 26ms/step\n",
      "1/1 [==============================] - 0s 26ms/step\n",
      "1/1 [==============================] - 0s 25ms/step\n",
      "1/1 [==============================] - 0s 28ms/step\n",
      "1/1 [==============================] - 0s 30ms/step\n",
      "1/1 [==============================] - 0s 43ms/step\n",
      "1/1 [==============================] - 0s 33ms/step\n",
      "1/1 [==============================] - 0s 31ms/step\n",
      "1/1 [==============================] - 0s 32ms/step\n",
      "1/1 [==============================] - 0s 33ms/step\n",
      "1/1 [==============================] - 0s 27ms/step\n",
      "1/1 [==============================] - 0s 25ms/step\n",
      "1/1 [==============================] - 0s 35ms/step\n",
      "1/1 [==============================] - 0s 26ms/step\n",
      "1/1 [==============================] - 0s 26ms/step\n",
      "1/1 [==============================] - 0s 25ms/step\n",
      "1/1 [==============================] - 0s 25ms/step\n",
      "1/1 [==============================] - 0s 26ms/step\n",
      "1/1 [==============================] - 0s 26ms/step\n",
      "1/1 [==============================] - 0s 26ms/step\n",
      "1/1 [==============================] - 0s 25ms/step\n",
      "1/1 [==============================] - 0s 25ms/step\n",
      "1/1 [==============================] - 0s 28ms/step\n",
      "1/1 [==============================] - 0s 25ms/step\n",
      "1/1 [==============================] - 0s 25ms/step\n",
      "1/1 [==============================] - 0s 29ms/step\n",
      "1/1 [==============================] - 0s 30ms/step\n",
      "1/1 [==============================] - 0s 30ms/step\n",
      "1/1 [==============================] - 0s 30ms/step\n",
      "1/1 [==============================] - 0s 28ms/step\n",
      "1/1 [==============================] - 0s 29ms/step\n",
      "1/1 [==============================] - 0s 28ms/step\n",
      "1/1 [==============================] - 0s 30ms/step\n",
      "1/1 [==============================] - 0s 29ms/step\n",
      "1/1 [==============================] - 0s 30ms/step\n",
      "1/1 [==============================] - 0s 42ms/step\n",
      "1/1 [==============================] - 0s 32ms/step\n",
      "1/1 [==============================] - 0s 35ms/step\n",
      "1/1 [==============================] - 0s 34ms/step\n",
      "1/1 [==============================] - 0s 32ms/step\n",
      "1/1 [==============================] - 0s 34ms/step\n",
      "1/1 [==============================] - 0s 30ms/step\n",
      "1/1 [==============================] - 0s 31ms/step\n",
      "1/1 [==============================] - 0s 30ms/step\n",
      "1/1 [==============================] - 0s 29ms/step\n",
      "1/1 [==============================] - 0s 36ms/step\n",
      "1/1 [==============================] - 0s 44ms/step\n",
      "1/1 [==============================] - 0s 31ms/step\n",
      "1/1 [==============================] - 0s 28ms/step\n",
      "1/1 [==============================] - 0s 30ms/step\n",
      "1/1 [==============================] - 0s 29ms/step\n",
      "1/1 [==============================] - 0s 30ms/step\n",
      "1/1 [==============================] - 0s 30ms/step\n",
      "1/1 [==============================] - 0s 28ms/step\n",
      "1/1 [==============================] - 0s 30ms/step\n",
      "1/1 [==============================] - 0s 29ms/step\n",
      "1/1 [==============================] - 0s 28ms/step\n",
      "1/1 [==============================] - 0s 31ms/step\n",
      "1/1 [==============================] - 0s 30ms/step\n",
      "1/1 [==============================] - 0s 29ms/step\n",
      "1/1 [==============================] - 0s 28ms/step\n",
      "1/1 [==============================] - 0s 29ms/step\n",
      "1/1 [==============================] - 0s 29ms/step\n",
      "1/1 [==============================] - 0s 30ms/step\n",
      "1/1 [==============================] - 0s 30ms/step\n",
      "1/1 [==============================] - 0s 29ms/step\n",
      "1/1 [==============================] - 0s 29ms/step\n",
      "1/1 [==============================] - 0s 30ms/step\n",
      "1/1 [==============================] - 0s 24ms/step\n",
      "1/1 [==============================] - 0s 25ms/step\n",
      "1/1 [==============================] - 0s 26ms/step\n",
      "1/1 [==============================] - 0s 26ms/step\n",
      "1/1 [==============================] - 0s 26ms/step\n",
      "1/1 [==============================] - 0s 26ms/step\n",
      "1/1 [==============================] - 0s 25ms/step\n",
      "1/1 [==============================] - 0s 26ms/step\n",
      "1/1 [==============================] - 0s 25ms/step\n",
      "1/1 [==============================] - 0s 26ms/step\n",
      "1/1 [==============================] - 0s 26ms/step\n",
      "1/1 [==============================] - 0s 25ms/step\n",
      "1/1 [==============================] - 0s 27ms/step\n",
      "1/1 [==============================] - 0s 25ms/step\n",
      "1/1 [==============================] - 0s 25ms/step\n",
      "1/1 [==============================] - 0s 25ms/step\n",
      "1/1 [==============================] - 0s 25ms/step\n",
      "1/1 [==============================] - 0s 26ms/step\n",
      "1/1 [==============================] - 0s 32ms/step\n",
      "1/1 [==============================] - 0s 26ms/step\n",
      "1/1 [==============================] - 0s 25ms/step\n",
      "1/1 [==============================] - 0s 26ms/step\n",
      "1/1 [==============================] - 0s 26ms/step\n",
      "1/1 [==============================] - 0s 25ms/step\n",
      "1/1 [==============================] - 0s 25ms/step\n",
      "1/1 [==============================] - 0s 26ms/step\n",
      "1/1 [==============================] - 0s 25ms/step\n",
      "1/1 [==============================] - 0s 26ms/step\n",
      "1/1 [==============================] - 0s 25ms/step\n",
      "1/1 [==============================] - 0s 25ms/step\n",
      "1/1 [==============================] - 0s 31ms/step\n",
      "1/1 [==============================] - 0s 29ms/step\n",
      "1/1 [==============================] - 0s 29ms/step\n",
      "1/1 [==============================] - 0s 30ms/step\n",
      "1/1 [==============================] - 0s 30ms/step\n",
      "1/1 [==============================] - 0s 30ms/step\n",
      "1/1 [==============================] - 0s 29ms/step\n",
      "1/1 [==============================] - 0s 30ms/step\n",
      "1/1 [==============================] - 0s 30ms/step\n",
      "1/1 [==============================] - 0s 50ms/step\n",
      "1/1 [==============================] - 0s 30ms/step\n",
      "1/1 [==============================] - 0s 29ms/step\n",
      "1/1 [==============================] - 0s 29ms/step\n",
      "1/1 [==============================] - 0s 30ms/step\n",
      "1/1 [==============================] - 0s 30ms/step\n",
      "1/1 [==============================] - 0s 29ms/step\n",
      "1/1 [==============================] - 0s 30ms/step\n",
      "1/1 [==============================] - 0s 25ms/step\n",
      "1/1 [==============================] - 0s 26ms/step\n",
      "1/1 [==============================] - 0s 26ms/step\n",
      "1/1 [==============================] - 0s 26ms/step\n",
      "1/1 [==============================] - 0s 32ms/step\n",
      "1/1 [==============================] - 0s 26ms/step\n",
      "1/1 [==============================] - 0s 26ms/step\n",
      "1/1 [==============================] - 0s 26ms/step\n",
      "1/1 [==============================] - 0s 26ms/step\n",
      "1/1 [==============================] - 0s 25ms/step\n",
      "1/1 [==============================] - 0s 27ms/step\n",
      "1/1 [==============================] - 0s 26ms/step\n",
      "1/1 [==============================] - 0s 26ms/step\n",
      "1/1 [==============================] - 0s 25ms/step\n",
      "1/1 [==============================] - 0s 27ms/step\n",
      "1/1 [==============================] - 0s 107ms/step\n"
     ]
    },
    {
     "ename": "NameError",
     "evalue": "name 'class_names' is not defined",
     "output_type": "error",
     "traceback": [
      "\u001b[1;31m---------------------------------------------------------------------------\u001b[0m",
      "\u001b[1;31mNameError\u001b[0m                                 Traceback (most recent call last)",
      "Cell \u001b[1;32mIn[3], line 162\u001b[0m\n\u001b[0;32m    160\u001b[0m cm \u001b[38;5;241m=\u001b[39m confusion_matrix(y_true, y_pred)\n\u001b[0;32m    161\u001b[0m plt\u001b[38;5;241m.\u001b[39mfigure(figsize\u001b[38;5;241m=\u001b[39m(\u001b[38;5;241m5\u001b[39m, \u001b[38;5;241m4\u001b[39m))\n\u001b[1;32m--> 162\u001b[0m sns\u001b[38;5;241m.\u001b[39mheatmap(cm, annot\u001b[38;5;241m=\u001b[39m\u001b[38;5;28;01mTrue\u001b[39;00m, fmt\u001b[38;5;241m=\u001b[39m\u001b[38;5;124m'\u001b[39m\u001b[38;5;124md\u001b[39m\u001b[38;5;124m'\u001b[39m, cmap\u001b[38;5;241m=\u001b[39m\u001b[38;5;124m'\u001b[39m\u001b[38;5;124mBlues\u001b[39m\u001b[38;5;124m'\u001b[39m, xticklabels\u001b[38;5;241m=\u001b[39m\u001b[43mclass_names\u001b[49m, yticklabels\u001b[38;5;241m=\u001b[39mclass_names)\n\u001b[0;32m    163\u001b[0m plt\u001b[38;5;241m.\u001b[39mxlabel(\u001b[38;5;124m\"\u001b[39m\u001b[38;5;124mPredicted\u001b[39m\u001b[38;5;124m\"\u001b[39m)\n\u001b[0;32m    164\u001b[0m plt\u001b[38;5;241m.\u001b[39mylabel(\u001b[38;5;124m\"\u001b[39m\u001b[38;5;124mTrue\u001b[39m\u001b[38;5;124m\"\u001b[39m)\n",
      "\u001b[1;31mNameError\u001b[0m: name 'class_names' is not defined"
     ]
    },
    {
     "data": {
      "text/plain": [
       "<Figure size 500x400 with 0 Axes>"
      ]
     },
     "metadata": {},
     "output_type": "display_data"
    }
   ],
   "source": [
    "# ============================================================\n",
    "# LOAD & PREPROCESS DATA\n",
    "# ============================================================\n",
    "data_dir = \"Petimages\"  # path to your dataset folder (contains 'Cat' and 'Dog')\n",
    "\n",
    "# Hyperparameters\n",
    "img_height, img_width = 128, 128\n",
    "batch_size = 32\n",
    "seed = 42\n"
   ]
  },
  {
   "cell_type": "markdown",
   "id": "1ad07260",
   "metadata": {},
   "source": [
    "### Checking the GPU Availability"
   ]
  },
  {
   "cell_type": "code",
   "execution_count": null,
   "id": "0ba50804",
   "metadata": {},
   "outputs": [],
   "source": [
    "# Check GPU availability\n",
    "print(\"TensorFlow version:\", tf.__version__)\n",
    "print(\"Num GPUs Available: \", len(tf.config.list_physical_devices('GPU')))"
   ]
  },
  {
   "cell_type": "markdown",
   "id": "8969de73",
   "metadata": {},
   "source": [
    "### Splitting the data for training and validation"
   ]
  },
  {
   "cell_type": "code",
   "execution_count": null,
   "id": "a492c332",
   "metadata": {},
   "outputs": [],
   "source": [
    "# Use image_dataset_from_directory to load images directly from folders\n",
    "train_ds = tf.keras.utils.image_dataset_from_directory(\n",
    "    data_dir,\n",
    "    validation_split=0.2,  # 20% for validation\n",
    "    subset=\"training\",\n",
    "    seed=seed,\n",
    "    image_size=(img_height, img_width),\n",
    "    batch_size=batch_size\n",
    ")\n",
    "\n",
    "val_ds = tf.keras.utils.image_dataset_from_directory(\n",
    "    data_dir,\n",
    "    validation_split=0.2,\n",
    "    subset=\"validation\",\n",
    "    seed=seed,\n",
    "    image_size=(img_height, img_width),\n",
    "    batch_size=batch_size\n",
    ")\n"
   ]
  },
  {
   "cell_type": "markdown",
   "id": "a175ca2b",
   "metadata": {},
   "source": [
    "### Data Augmentation"
   ]
  },
  {
   "cell_type": "code",
   "execution_count": null,
   "id": "8a8098bf",
   "metadata": {},
   "outputs": [],
   "source": [
    "# ============================================================\n",
    "# AUGMENTATION\n",
    "# ============================================================\n",
    "data_augmentation = tf.keras.Sequential([\n",
    "    layers.RandomFlip(\"horizontal\"),\n",
    "    layers.RandomRotation(0.1),\n",
    "    layers.RandomZoom(0.1),\n",
    "])"
   ]
  },
  {
   "cell_type": "markdown",
   "id": "c744c3e8",
   "metadata": {},
   "source": [
    "### Normalization"
   ]
  },
  {
   "cell_type": "code",
   "execution_count": null,
   "id": "cafb01df",
   "metadata": {},
   "outputs": [],
   "source": [
    "# Normalize pixel values to [0, 1]\n",
    "normalization_layer = layers.Rescaling(1./255)\n",
    "train_ds = train_ds.map(lambda x, y: (normalization_layer(x), y))\n",
    "val_ds = val_ds.map(lambda x, y: (normalization_layer(x), y))\n",
    "\n",
    "# Optimize performance (caching + prefetching)\n",
    "AUTOTUNE = tf.data.AUTOTUNE\n",
    "train_ds = train_ds.cache().shuffle(1000).prefetch(buffer_size=AUTOTUNE)\n",
    "val_ds = val_ds.cache().prefetch(buffer_size=AUTOTUNE)\n"
   ]
  },
  {
   "cell_type": "markdown",
   "id": "92579739",
   "metadata": {},
   "source": [
    "## Building the CNN Model"
   ]
  },
  {
   "cell_type": "code",
   "execution_count": null,
   "id": "2af11c38",
   "metadata": {},
   "outputs": [],
   "source": [
    "# ============================================================\n",
    "#  BUILD CNN MODEL\n",
    "# ============================================================\n",
    "model = models.Sequential([\n",
    "    data_augmentation,\n",
    "    layers.Conv2D(32, (3, 3), activation='relu', input_shape=(img_height, img_width, 3)),\n",
    "    layers.MaxPooling2D((2, 2)),\n",
    "    \n",
    "    layers.Conv2D(64, (3, 3), activation='relu'),\n",
    "    layers.MaxPooling2D((2, 2)),\n",
    "    \n",
    "    layers.Conv2D(128, (3, 3), activation='relu'),\n",
    "    layers.MaxPooling2D((2, 2)),\n",
    "    \n",
    "    layers.Dropout(0.3),  # Regularization to prevent overfitting\n",
    "    layers.Flatten(),\n",
    "    layers.Dense(128, activation='relu'),\n",
    "    layers.Dropout(0.2),\n",
    "    layers.Dense(1, activation='sigmoid')  # Binary classification\n",
    "])\n",
    "\n",
    "# model.summary()\n"
   ]
  },
  {
   "cell_type": "markdown",
   "id": "2987039a",
   "metadata": {},
   "source": [
    "### Compiling the Model"
   ]
  },
  {
   "cell_type": "code",
   "execution_count": null,
   "id": "74d2a466",
   "metadata": {},
   "outputs": [],
   "source": [
    "# ============================================================\n",
    "# COMPILE MODEL\n",
    "# ============================================================\n",
    "model.compile(\n",
    "    optimizer=tf.keras.optimizers.Adam(learning_rate=0.0005),\n",
    "    loss='binary_crossentropy',\n",
    "    metrics=['accuracy']\n",
    ")"
   ]
  },
  {
   "cell_type": "markdown",
   "id": "b2673c97",
   "metadata": {},
   "source": [
    "### Training the Model"
   ]
  },
  {
   "cell_type": "code",
   "execution_count": null,
   "id": "21ce3cdb",
   "metadata": {},
   "outputs": [],
   "source": [
    "# ============================================================\n",
    "#  TRAIN MODEL\n",
    "# ============================================================\n",
    "early_stopping = tf.keras.callbacks.EarlyStopping(\n",
    "    monitor='val_loss',\n",
    "    patience=5,\n",
    "    restore_best_weights=True\n",
    ")\n",
    "\n",
    "history = model.fit(\n",
    "    train_ds,\n",
    "    validation_data=val_ds,\n",
    "    epochs=30,\n",
    "    callbacks=[early_stopping]\n",
    ")"
   ]
  },
  {
   "cell_type": "markdown",
   "id": "b2ca2e80",
   "metadata": {},
   "source": [
    "### Visualizing the Performance"
   ]
  },
  {
   "cell_type": "code",
   "execution_count": null,
   "id": "c2f56968",
   "metadata": {},
   "outputs": [],
   "source": [
    "# ============================================================\n",
    "# VISUALIZE TRAINING PERFORMANCE\n",
    "# ============================================================\n",
    "plt.figure(figsize=(12, 5))\n",
    "\n",
    "# Accuracy\n",
    "plt.subplot(1, 2, 1)\n",
    "plt.plot(history.history['accuracy'], label='Train Accuracy')\n",
    "plt.plot(history.history['val_accuracy'], label='Val Accuracy')\n",
    "plt.legend()\n",
    "plt.title(\"Model Accuracy\")\n",
    "plt.xlabel(\"Epochs\")\n",
    "\n",
    "# Loss\n",
    "plt.subplot(1, 2, 2)\n",
    "plt.plot(history.history['loss'], label='Train Loss')\n",
    "plt.plot(history.history['val_loss'], label='Val Loss')\n",
    "plt.legend()\n",
    "plt.title(\"Model Loss\")\n",
    "plt.xlabel(\"Epochs\")\n",
    "\n",
    "plt.show()"
   ]
  },
  {
   "cell_type": "code",
   "execution_count": null,
   "id": "17d31456",
   "metadata": {},
   "outputs": [],
   "source": [
    "# ============================================================\n",
    "# EVALUATION (CONFUSION MATRIX & CLASSIFICATION REPORT)\n",
    "# ============================================================\n",
    "# Get predictions on validation set\n",
    "y_true = []\n",
    "y_pred = []\n",
    "for images, labels in val_ds:\n",
    "    preds = model.predict(images)\n",
    "    y_true.extend(labels.numpy())\n",
    "    y_pred.extend(np.round(preds).astype(int).flatten())"
   ]
  },
  {
   "cell_type": "markdown",
   "id": "ca4b991e",
   "metadata": {},
   "source": [
    "### Saving the Model"
   ]
  },
  {
   "cell_type": "code",
   "execution_count": null,
   "id": "7a0b0197",
   "metadata": {},
   "outputs": [
    {
     "name": "stdout",
     "output_type": "stream",
     "text": [
      "✅ Model saved as cats_vs_dogs_custom_cnn.h5\n"
     ]
    }
   ],
   "source": [
    "# ============================================================\n",
    "#  SAVE MODEL\n",
    "# ============================================================\n",
    "model.save(\"cats_vs_dogs_custom_cnn.h5\")\n",
    "print(\" Model saved as cats_vs_dogs_custom_cnn.h5\")"
   ]
  },
  {
   "cell_type": "markdown",
   "id": "a08afa12",
   "metadata": {},
   "source": [
    "### Importing the Model"
   ]
  },
  {
   "cell_type": "code",
   "execution_count": 2,
   "id": "51d3f6dd",
   "metadata": {},
   "outputs": [
    {
     "name": "stdout",
     "output_type": "stream",
     "text": [
      "WARNING:tensorflow:Using a while_loop for converting RngReadAndSkip cause there is no registered converter for this op.\n",
      "WARNING:tensorflow:Using a while_loop for converting Bitcast cause there is no registered converter for this op.\n",
      "WARNING:tensorflow:Using a while_loop for converting Bitcast cause there is no registered converter for this op.\n",
      "WARNING:tensorflow:Using a while_loop for converting StatelessRandomUniformV2 cause there is no registered converter for this op.\n",
      "WARNING:tensorflow:Using a while_loop for converting ImageProjectiveTransformV3 cause there is no registered converter for this op.\n",
      "WARNING:tensorflow:Using a while_loop for converting RngReadAndSkip cause there is no registered converter for this op.\n",
      "WARNING:tensorflow:Using a while_loop for converting Bitcast cause there is no registered converter for this op.\n",
      "WARNING:tensorflow:Using a while_loop for converting Bitcast cause there is no registered converter for this op.\n",
      "WARNING:tensorflow:Using a while_loop for converting StatelessRandomUniformV2 cause there is no registered converter for this op.\n",
      "WARNING:tensorflow:Using a while_loop for converting ImageProjectiveTransformV3 cause there is no registered converter for this op.\n",
      "WARNING:tensorflow:Using a while_loop for converting RngReadAndSkip cause there is no registered converter for this op.\n",
      "WARNING:tensorflow:Using a while_loop for converting Bitcast cause there is no registered converter for this op.\n",
      "WARNING:tensorflow:Using a while_loop for converting Bitcast cause there is no registered converter for this op.\n",
      "WARNING:tensorflow:Using a while_loop for converting StatelessRandomUniformV2 cause there is no registered converter for this op.\n",
      "WARNING:tensorflow:Using a while_loop for converting ImageProjectiveTransformV3 cause there is no registered converter for this op.\n",
      "WARNING:tensorflow:Using a while_loop for converting RngReadAndSkip cause there is no registered converter for this op.\n",
      "WARNING:tensorflow:Using a while_loop for converting Bitcast cause there is no registered converter for this op.\n",
      "WARNING:tensorflow:Using a while_loop for converting Bitcast cause there is no registered converter for this op.\n",
      "WARNING:tensorflow:Using a while_loop for converting StatelessRandomUniformV2 cause there is no registered converter for this op.\n",
      "WARNING:tensorflow:Using a while_loop for converting ImageProjectiveTransformV3 cause there is no registered converter for this op.\n"
     ]
    }
   ],
   "source": [
    "# Checking the model prediction and importing the model\n",
    "\n",
    "from tensorflow.keras.models import load_model\n",
    "model = load_model(\"cats_vs_dogs_custom_cnn.h5\")"
   ]
  },
  {
   "cell_type": "code",
   "execution_count": 13,
   "id": "7f97c6aa",
   "metadata": {},
   "outputs": [
    {
     "name": "stdout",
     "output_type": "stream",
     "text": [
      "Model: \"sequential_3\"\n",
      "_________________________________________________________________\n",
      " Layer (type)                Output Shape              Param #   \n",
      "=================================================================\n",
      " sequential_2 (Sequential)   (None, 128, 128, 3)       0         \n",
      "                                                                 \n",
      " conv2d_3 (Conv2D)           (None, 126, 126, 32)      896       \n",
      "                                                                 \n",
      " max_pooling2d_3 (MaxPooling  (None, 63, 63, 32)       0         \n",
      " 2D)                                                             \n",
      "                                                                 \n",
      " conv2d_4 (Conv2D)           (None, 61, 61, 64)        18496     \n",
      "                                                                 \n",
      " max_pooling2d_4 (MaxPooling  (None, 30, 30, 64)       0         \n",
      " 2D)                                                             \n",
      "                                                                 \n",
      " conv2d_5 (Conv2D)           (None, 28, 28, 128)       73856     \n",
      "                                                                 \n",
      " max_pooling2d_5 (MaxPooling  (None, 14, 14, 128)      0         \n",
      " 2D)                                                             \n",
      "                                                                 \n",
      " dropout_2 (Dropout)         (None, 14, 14, 128)       0         \n",
      "                                                                 \n",
      " flatten_1 (Flatten)         (None, 25088)             0         \n",
      "                                                                 \n",
      " dense_2 (Dense)             (None, 128)               3211392   \n",
      "                                                                 \n",
      " dropout_3 (Dropout)         (None, 128)               0         \n",
      "                                                                 \n",
      " dense_3 (Dense)             (None, 1)                 129       \n",
      "                                                                 \n",
      "=================================================================\n",
      "Total params: 3,304,769\n",
      "Trainable params: 3,304,769\n",
      "Non-trainable params: 0\n",
      "_________________________________________________________________\n"
     ]
    }
   ],
   "source": [
    "model.summary()"
   ]
  },
  {
   "cell_type": "markdown",
   "id": "3be3f09a",
   "metadata": {},
   "source": [
    "# Making the Prediction System "
   ]
  },
  {
   "cell_type": "code",
   "execution_count": 4,
   "id": "2e7d2cd9",
   "metadata": {},
   "outputs": [
    {
     "name": "stdout",
     "output_type": "stream",
     "text": [
      "1/1 [==============================] - 0s 46ms/step\n",
      "Raw Prediction: 0.0000\n",
      "Prediction: Cat 🐱 (100.00% confident)\n"
     ]
    }
   ],
   "source": [
    "# making the prediction system\n",
    "import cv2\n",
    "import numpy as np\n",
    "\n",
    "# Load & preprocess image\n",
    "img_path = \"cat.jpg\"\n",
    "img = cv2.imread(img_path)\n",
    "img = cv2.cvtColor(img, cv2.COLOR_BGR2RGB)  # Convert BGR to RGB\n",
    "img = cv2.resize(img, (128, 128))           # Must match training size\n",
    "img = img / 255.0                           # Normalize to [0, 1]\n",
    "img = np.expand_dims(img, axis=0)           # Add batch dimension\n",
    "\n",
    "# Predict\n",
    "pred = model.predict(img)\n",
    "score = pred[0][0]  # Raw sigmoid output\n",
    "confidence = score * 100 if score > 0.5 else (1 - score) * 100\n",
    "\n",
    "print(f\"Raw Prediction: {score:.4f}\")\n",
    "if score > 0.5:\n",
    "    print(f\"Prediction: Dog 🐶 ({confidence:.2f}% confident)\")\n",
    "else:\n",
    "    print(f\"Prediction: Cat 🐱 ({confidence:.2f}% confident)\")\n",
    "\n"
   ]
  },
  {
   "cell_type": "markdown",
   "id": "e55979f8",
   "metadata": {},
   "source": [
    "## 🖼️ Sample Results (Preview)\n",
    "\n",
    "| Image | Prediction | Confidence |\n",
    "|-------|-------------|-----------|\n",
    "| <img src=\"cat.jpg\" width=\"150\"> | 🐱 Cat | **100.00%** |\n",
    "| <img src=\"dog.jpg\" width=\"150\"> | 🐶 Dog | **99.99%** |"
   ]
  }
 ],
 "metadata": {
  "kernelspec": {
   "display_name": "tfgpu",
   "language": "python",
   "name": "python3"
  },
  "language_info": {
   "codemirror_mode": {
    "name": "ipython",
    "version": 3
   },
   "file_extension": ".py",
   "mimetype": "text/x-python",
   "name": "python",
   "nbconvert_exporter": "python",
   "pygments_lexer": "ipython3",
   "version": "3.10.18"
  }
 },
 "nbformat": 4,
 "nbformat_minor": 5
}
